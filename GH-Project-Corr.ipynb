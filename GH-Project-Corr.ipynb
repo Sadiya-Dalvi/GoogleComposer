{
 "cells": [
  {
   "cell_type": "code",
   "execution_count": 1,
   "metadata": {},
   "outputs": [],
   "source": [
    "import seaborn as sn\n",
    "import matplotlib.pyplot as plt\n",
    "import pandas as pd\n",
    "\n",
    "%load_ext google.cloud.bigquery"
   ]
  },
  {
   "cell_type": "markdown",
   "metadata": {},
   "source": [
    "What is the avg age of males and females in different countries around the world.\n"
   ]
  },
  {
   "cell_type": "markdown",
   "metadata": {},
   "source": [
    "As there is no direct way to calculate average age, the below approach is taken: We have indicator codes like 'SP.POP.%.MA.5Y' which give us % population between each 5Y band from age 0 to age 80+ example codes are SP.POP.10-14.MA.5Y SP.POP.45-49.MA.5Y "
   ]
  },
  {
   "cell_type": "markdown",
   "metadata": {},
   "source": [
    "Below query extracts the starting age of each 5Y block and adds 2.5 to it to get the average age We already have the % population in that age band as value field. This is added up for each country to get the average age in each country"
   ]
  },
  {
   "cell_type": "code",
   "execution_count": 23,
   "metadata": {},
   "outputs": [],
   "source": [
    "%%bigquery df_avg_age\n",
    "SELECT round(sum(((cast(substr(indicator_code,8,2) as INT64) + 2.5) * value))/100,2) as Avg_AGE ,  country_code, country_name\n",
    "FROM `bigquery-public-data.world_bank_health_population.health_nutrition_population` \n",
    "where indicator_code like 'SP.POP.%.MA.5Y' and year = 2019\n",
    "group by country_code, country_name\n",
    "order by Avg_AGE DESC"
   ]
  },
  {
   "cell_type": "markdown",
   "metadata": {},
   "source": [
    "Top 20 countries with highest Average Ages\n"
   ]
  },
  {
   "cell_type": "code",
   "execution_count": 54,
   "metadata": {},
   "outputs": [],
   "source": [
    "%%bigquery df_avg_age\n",
    "SELECT round(sum(((cast(substr(indicator_code,8,2) as INT64) + 2.5) * value))/100,2) as Avg_AGE ,  country_code, country_name\n",
    "FROM `bigquery-public-data.world_bank_health_population.health_nutrition_population` \n",
    "where indicator_code like 'SP.POP.%.MA.5Y' and year = 2019\n",
    "group by country_code, country_name\n",
    "order by Avg_AGE DESC limit 20"
   ]
  },
  {
   "cell_type": "code",
   "execution_count": 27,
   "metadata": {},
   "outputs": [
    {
     "data": {
      "text/plain": [
       "<matplotlib.axes._subplots.AxesSubplot at 0x7faa79ecb358>"
      ]
     },
     "execution_count": 27,
     "metadata": {},
     "output_type": "execute_result"
    },
    {
     "data": {
      "image/png": "[encoded data removed]",
      "text/plain": [
       "<matplotlib.figure.Figure at 0x7faa79ee3898>"
      ]
     },
     "metadata": {},
     "output_type": "display_data"
    }
   ],
   "source": [
    "df_avg_age.plot(kind=\"bar\", x=\"country_name\", y=\"Avg_AGE\")"
   ]
  },
  {
   "cell_type": "code",
   "execution_count": 25,
   "metadata": {},
   "outputs": [
    {
     "data": {
      "text/html": [
       "<div>\n",
       "<style scoped>\n",
       "    .dataframe tbody tr th:only-of-type {\n",
       "        vertical-align: middle;\n",
       "    }\n",
       "\n",
       "    .dataframe tbody tr th {\n",
       "        vertical-align: top;\n",
       "    }\n",
       "\n",
       "    .dataframe thead th {\n",
       "        text-align: right;\n",
       "    }\n",
       "</style>\n",
       "<table border=\"1\" class=\"dataframe\">\n",
       "  <thead>\n",
       "    <tr style=\"text-align: right;\">\n",
       "      <th></th>\n",
       "      <th>Avg_AGE</th>\n",
       "    </tr>\n",
       "  </thead>\n",
       "  <tbody>\n",
       "    <tr>\n",
       "      <th>count</th>\n",
       "      <td>20.000000</td>\n",
       "    </tr>\n",
       "    <tr>\n",
       "      <th>mean</th>\n",
       "      <td>42.175500</td>\n",
       "    </tr>\n",
       "    <tr>\n",
       "      <th>std</th>\n",
       "      <td>1.107099</td>\n",
       "    </tr>\n",
       "    <tr>\n",
       "      <th>min</th>\n",
       "      <td>40.890000</td>\n",
       "    </tr>\n",
       "    <tr>\n",
       "      <th>25%</th>\n",
       "      <td>41.535000</td>\n",
       "    </tr>\n",
       "    <tr>\n",
       "      <th>50%</th>\n",
       "      <td>41.795000</td>\n",
       "    </tr>\n",
       "    <tr>\n",
       "      <th>75%</th>\n",
       "      <td>42.950000</td>\n",
       "    </tr>\n",
       "    <tr>\n",
       "      <th>max</th>\n",
       "      <td>45.350000</td>\n",
       "    </tr>\n",
       "  </tbody>\n",
       "</table>\n",
       "</div>"
      ],
      "text/plain": [
       "         Avg_AGE\n",
       "count  20.000000\n",
       "mean   42.175500\n",
       "std     1.107099\n",
       "min    40.890000\n",
       "25%    41.535000\n",
       "50%    41.795000\n",
       "75%    42.950000\n",
       "max    45.350000"
      ]
     },
     "execution_count": 25,
     "metadata": {},
     "output_type": "execute_result"
    }
   ],
   "source": [
    "df_avg_age.describe()"
   ]
  },
  {
   "cell_type": "markdown",
   "metadata": {},
   "source": [
    "20 countries with lowest Average Ages"
   ]
  },
  {
   "cell_type": "code",
   "execution_count": 29,
   "metadata": {},
   "outputs": [],
   "source": [
    "%%bigquery df_avg_age\n",
    "SELECT round(sum(((cast(substr(indicator_code,8,2) as INT64) + 2.5) * value))/100,2) as Avg_AGE ,  country_code, country_name\n",
    "FROM `bigquery-public-data.world_bank_health_population.health_nutrition_population` \n",
    "where indicator_code like 'SP.POP.%.MA.5Y' and year = 2019\n",
    "group by country_code, country_name\n",
    "order by Avg_AGE ASC limit 20"
   ]
  },
  {
   "cell_type": "code",
   "execution_count": 30,
   "metadata": {},
   "outputs": [
    {
     "data": {
      "text/plain": [
       "<matplotlib.axes._subplots.AxesSubplot at 0x7faa78adba58>"
      ]
     },
     "execution_count": 30,
     "metadata": {},
     "output_type": "execute_result"
    },
    {
     "data": {
      "image/png": "[encoded data removed]",
      "text/plain": [
       "<matplotlib.figure.Figure at 0x7faa78ccdc88>"
      ]
     },
     "metadata": {},
     "output_type": "display_data"
    }
   ],
   "source": [
    "df_avg_age.plot(kind=\"bar\", x=\"country_name\", y=\"Avg_AGE\")"
   ]
  },
  {
   "cell_type": "code",
   "execution_count": 2,
   "metadata": {},
   "outputs": [],
   "source": [
    "%%bigquery survival_male\n",
    "select  value as survival_male_65, country_name, year \n",
    "from dataproc-300110.worldbankhealth.health_nutrition_population \n",
    "where indicator_code in ('SP.DYN.TO65.MA.ZS') and year > 2000"
   ]
  },
  {
   "cell_type": "code",
   "execution_count": 3,
   "metadata": {},
   "outputs": [],
   "source": [
    "%%bigquery health_exp\n",
    "select value as health_exp, country_name, year \n",
    "from dataproc-300110.worldbankhealth.health_nutrition_population \n",
    "where indicator_code in ('SH.XPD.CHEX.PC.CD') and year > 2000"
   ]
  },
  {
   "cell_type": "code",
   "execution_count": 4,
   "metadata": {},
   "outputs": [
    {
     "data": {
      "image/png": "[encoded data removed]",
      "text/plain": [
       "<matplotlib.figure.Figure at 0x7faa79f12ef0>"
      ]
     },
     "metadata": {},
     "output_type": "display_data"
    }
   ],
   "source": [
    "merge_pd = pd.merge(survival_male, health_exp, on=['country_name','year'])\n",
    "\n",
    "corr_df = merge_pd\n",
    "\n",
    "corr_df.drop(['year', 'country_name'], inplace=True, axis='columns')\n",
    "corrMatrix = corr_df.corr()\n",
    "\n",
    "sn.heatmap(corrMatrix,cmap='RdBu', center=0, annot=True)\n",
    "plt.savefig('heathexp_survival_male_correlation.png')\n",
    "plt.show()"
   ]
  },
  {
   "cell_type": "code",
   "execution_count": 6,
   "metadata": {},
   "outputs": [],
   "source": [
    "%%bigquery survival_female\n",
    "select  value as survival_female_65, country_name, year\n",
    "from dataproc-300110.worldbankhealth.health_nutrition_population\n",
    "where indicator_code in ('SP.DYN.TO65.FE.ZS') and year > 2000"
   ]
  },
  {
   "cell_type": "code",
   "execution_count": 7,
   "metadata": {},
   "outputs": [],
   "source": [
    "merge_pd = pd.merge(survival_female, health_exp, on=['country_name','year'])\n",
    "corr_df = merge_pd\n",
    "\n",
    "corr_df.drop(['year', 'country_name'], inplace=True, axis='columns')\n",
    "corrMatrix = corr_df.corr()"
   ]
  },
  {
   "cell_type": "code",
   "execution_count": 8,
   "metadata": {},
   "outputs": [
    {
     "data": {
      "image/png": "[encoded data removed]",
      "text/plain": [
       "<matplotlib.figure.Figure at 0x7faa79e5a630>"
      ]
     },
     "metadata": {},
     "output_type": "display_data"
    }
   ],
   "source": [
    "sn.heatmap(corrMatrix,cmap='RdBu', center=0, annot=True)\n",
    "plt.savefig('heathexp_survival_female_correlation.png')\n",
    "plt.show()"
   ]
  },
  {
   "cell_type": "code",
   "execution_count": 9,
   "metadata": {},
   "outputs": [],
   "source": [
    "%%bigquery health_exp_pp\n",
    "select value as health_exp_pp, country_name, year \n",
    "from dataproc-300110.worldbankhealth.health_nutrition_population \n",
    "where indicator_code in ('SH.XPD.CHEX.PC.CD') and year > 2000"
   ]
  },
  {
   "cell_type": "code",
   "execution_count": 10,
   "metadata": {},
   "outputs": [],
   "source": [
    "merge_pd = pd.merge(survival_female, health_exp_pp, on=['country_name','year'])\n",
    "corr_df = merge_pd\n",
    "\n",
    "corr_df.drop(['year', 'country_name'], inplace=True, axis='columns')\n",
    "corrMatrix = corr_df.corr()\n"
   ]
  },
  {
   "cell_type": "code",
   "execution_count": 11,
   "metadata": {},
   "outputs": [
    {
     "data": {
      "image/png": "[encoded data removed]",
      "text/plain": [
       "<matplotlib.figure.Figure at 0x7faa79d15518>"
      ]
     },
     "metadata": {},
     "output_type": "display_data"
    }
   ],
   "source": [
    "sn.heatmap(corrMatrix,cmap='RdBu', center=0, annot=True)\n",
    "plt.savefig('heathexp_pp_survival_female_male_correlation.png')\n",
    "plt.show()"
   ]
  },
  {
   "cell_type": "code",
   "execution_count": null,
   "metadata": {},
   "outputs": [],
   "source": []
  },
  {
   "cell_type": "markdown",
   "metadata": {},
   "source": [
    "- Correlation between School enrollment and unemployment for males and females\n",
    "\n",
    "School enrollment, secondary, male (% net) - SE.SEC.NENR.MA\n",
    "Unemployment, male (% of male labor force) - SL.UEM.TOTL.MA.ZS"
   ]
  },
  {
   "cell_type": "code",
   "execution_count": 12,
   "metadata": {},
   "outputs": [],
   "source": [
    "%%bigquery df_school_enroll\n",
    "select  value as school_enroll, country_name, year \n",
    "from dataproc-300110.worldbankhealth.health_nutrition_population \n",
    "where indicator_code in ('SE.SEC.NENR.MA') and year > 2000"
   ]
  },
  {
   "cell_type": "code",
   "execution_count": 13,
   "metadata": {},
   "outputs": [],
   "source": [
    "%%bigquery df_unemploy\n",
    "select value as unemploy, country_name, year \n",
    "from dataproc-300110.worldbankhealth.health_nutrition_population \n",
    "where indicator_code in ('SL.UEM.TOTL.MA.ZS') and year > 2000\n"
   ]
  },
  {
   "cell_type": "code",
   "execution_count": 14,
   "metadata": {},
   "outputs": [],
   "source": [
    "merge_pd = pd.merge(df_school_enroll, df_unemploy, on=['country_name','year'])\n",
    "\n",
    "corr_df = merge_pd\n",
    "\n",
    "corr_df.drop(['year', 'country_name'], inplace=True, axis='columns')\n",
    "corrMatrix = corr_df.corr()"
   ]
  },
  {
   "cell_type": "code",
   "execution_count": 15,
   "metadata": {},
   "outputs": [
    {
     "data": {
      "image/png": "[encoded data removed]",
      "text/plain": [
       "<matplotlib.figure.Figure at 0x7faa78d90ba8>"
      ]
     },
     "metadata": {},
     "output_type": "display_data"
    }
   ],
   "source": [
    "sn.heatmap(corrMatrix,cmap='RdBu', center=0, annot=True)\n",
    "plt.savefig('male_schoo_enroll_unemploy.png')\n",
    "plt.show()"
   ]
  },
  {
   "cell_type": "code",
   "execution_count": null,
   "metadata": {},
   "outputs": [],
   "source": []
  },
  {
   "cell_type": "markdown",
   "metadata": {},
   "source": [
    "- Correlation between School enrollment and unemployment for  females\n",
    "Using the below indicator code / indicator names\n",
    "\n",
    "School enrollment, secondary, female (% net) - SE.SEC.NENR.FE\n",
    "Unemployment, female (% of female labor force) - SL.UEM.TOTL.FE.ZS\n"
   ]
  },
  {
   "cell_type": "code",
   "execution_count": 16,
   "metadata": {},
   "outputs": [],
   "source": [
    "%%bigquery df_school_enroll\n",
    "select  value as school_enroll, country_name, year \n",
    "from dataproc-300110.worldbankhealth.health_nutrition_population \n",
    "where indicator_code in ('SE.SEC.NENR.FE') and year > 2000"
   ]
  },
  {
   "cell_type": "code",
   "execution_count": 17,
   "metadata": {},
   "outputs": [],
   "source": [
    "%%bigquery df_unemploy\n",
    "select value as unemploy, country_name, year \n",
    "from dataproc-300110.worldbankhealth.health_nutrition_population \n",
    "where indicator_code in ('SL.UEM.TOTL.FE.ZS') and year > 2000"
   ]
  },
  {
   "cell_type": "code",
   "execution_count": 18,
   "metadata": {},
   "outputs": [],
   "source": [
    "merge_pd = pd.merge(df_school_enroll, df_unemploy, on=['country_name','year'])\n",
    "\n",
    "corr_df = merge_pd\n",
    "\n",
    "corr_df.drop(['year', 'country_name'], inplace=True, axis='columns')\n",
    "corrMatrix = corr_df.corr()"
   ]
  },
  {
   "cell_type": "code",
   "execution_count": 19,
   "metadata": {},
   "outputs": [
    {
     "data": {
      "image/png": "[encoded data removed]",
      "text/plain": [
       "<matplotlib.figure.Figure at 0x7faa78e250b8>"
      ]
     },
     "metadata": {},
     "output_type": "display_data"
    }
   ],
   "source": [
    "sn.heatmap(corrMatrix,cmap='RdBu', center=0, annot=True)\n",
    "plt.savefig('male_schoo_enroll_unemploy.png')\n",
    "plt.show()"
   ]
  },
  {
   "cell_type": "code",
   "execution_count": null,
   "metadata": {},
   "outputs": [],
   "source": []
  },
  {
   "cell_type": "markdown",
   "metadata": {},
   "source": [
    "- Avg age of first pregnancy around the world.\n",
    "Age at first marriage, female - SP.DYN.SMAM.FE"
   ]
  },
  {
   "cell_type": "code",
   "execution_count": null,
   "metadata": {},
   "outputs": [],
   "source": []
  },
  {
   "cell_type": "markdown",
   "metadata": {},
   "source": [
    "- Avg age of first pregnancy around the world.\n",
    "Use the average age of first marriage + 2 to estimate the average age of first preganancy"
   ]
  },
  {
   "cell_type": "markdown",
   "metadata": {},
   "source": []
  },
  {
   "cell_type": "code",
   "execution_count": 35,
   "metadata": {},
   "outputs": [],
   "source": [
    "%%bigquery df_first_preg\n",
    "SELECT round(value+2,1) as First_Pregnancy ,  country_code, country_name, year\n",
    "FROM `dataproc-300110.worldbankhealth.wh_health_nutrition_population` \n",
    "where indicator_code like 'SP.DYN.SMAM.FE' and year = 2013 and value > 15\n",
    "order by value desc "
   ]
  },
  {
   "cell_type": "code",
   "execution_count": 36,
   "metadata": {},
   "outputs": [
    {
     "data": {
      "text/plain": [
       "<matplotlib.axes._subplots.AxesSubplot at 0x7faa78b49048>"
      ]
     },
     "execution_count": 36,
     "metadata": {},
     "output_type": "execute_result"
    },
    {
     "data": {
      "image/png": "[encoded data removed]",
      "text/plain": [
       "<matplotlib.figure.Figure at 0x7faa78af5128>"
      ]
     },
     "metadata": {},
     "output_type": "display_data"
    }
   ],
   "source": [
    "df_first_preg.plot(kind=\"bar\", x=\"country_name\", y=\"First_Pregnancy\")"
   ]
  },
  {
   "cell_type": "code",
   "execution_count": null,
   "metadata": {},
   "outputs": [],
   "source": []
  },
  {
   "cell_type": "markdown",
   "metadata": {},
   "source": [
    "Mortality rate, infant (per 1,000 live births) - SP.DYN.IMRT.IN \n"
   ]
  },
  {
   "cell_type": "code",
   "execution_count": 37,
   "metadata": {},
   "outputs": [],
   "source": [
    "%%bigquery df_mortality\n",
    "SELECT round(value+2,1) as infant_mortality ,  country_code, country_name, year\n",
    "FROM `dataproc-300110.worldbankhealth.wh_health_nutrition_population` \n",
    "where indicator_code like 'SP.DYN.IMRT.IN' and year = 2013\n",
    "order by value desc "
   ]
  },
  {
   "cell_type": "code",
   "execution_count": 38,
   "metadata": {},
   "outputs": [
    {
     "data": {
      "text/html": [
       "<div>\n",
       "<style scoped>\n",
       "    .dataframe tbody tr th:only-of-type {\n",
       "        vertical-align: middle;\n",
       "    }\n",
       "\n",
       "    .dataframe tbody tr th {\n",
       "        vertical-align: top;\n",
       "    }\n",
       "\n",
       "    .dataframe thead th {\n",
       "        text-align: right;\n",
       "    }\n",
       "</style>\n",
       "<table border=\"1\" class=\"dataframe\">\n",
       "  <thead>\n",
       "    <tr style=\"text-align: right;\">\n",
       "      <th></th>\n",
       "      <th>infant_mortality</th>\n",
       "      <th>year</th>\n",
       "    </tr>\n",
       "  </thead>\n",
       "  <tbody>\n",
       "    <tr>\n",
       "      <th>count</th>\n",
       "      <td>234.000000</td>\n",
       "      <td>234.0</td>\n",
       "    </tr>\n",
       "    <tr>\n",
       "      <th>mean</th>\n",
       "      <td>25.038889</td>\n",
       "      <td>2013.0</td>\n",
       "    </tr>\n",
       "    <tr>\n",
       "      <th>std</th>\n",
       "      <td>21.528964</td>\n",
       "      <td>0.0</td>\n",
       "    </tr>\n",
       "    <tr>\n",
       "      <th>min</th>\n",
       "      <td>3.000000</td>\n",
       "      <td>2013.0</td>\n",
       "    </tr>\n",
       "    <tr>\n",
       "      <th>25%</th>\n",
       "      <td>6.725000</td>\n",
       "      <td>2013.0</td>\n",
       "    </tr>\n",
       "    <tr>\n",
       "      <th>50%</th>\n",
       "      <td>17.350000</td>\n",
       "      <td>2013.0</td>\n",
       "    </tr>\n",
       "    <tr>\n",
       "      <th>75%</th>\n",
       "      <td>38.375000</td>\n",
       "      <td>2013.0</td>\n",
       "    </tr>\n",
       "    <tr>\n",
       "      <th>max</th>\n",
       "      <td>96.600000</td>\n",
       "      <td>2013.0</td>\n",
       "    </tr>\n",
       "  </tbody>\n",
       "</table>\n",
       "</div>"
      ],
      "text/plain": [
       "       infant_mortality    year\n",
       "count        234.000000   234.0\n",
       "mean          25.038889  2013.0\n",
       "std           21.528964     0.0\n",
       "min            3.000000  2013.0\n",
       "25%            6.725000  2013.0\n",
       "50%           17.350000  2013.0\n",
       "75%           38.375000  2013.0\n",
       "max           96.600000  2013.0"
      ]
     },
     "execution_count": 38,
     "metadata": {},
     "output_type": "execute_result"
    }
   ],
   "source": [
    "df_mortality.describe()"
   ]
  },
  {
   "cell_type": "code",
   "execution_count": 48,
   "metadata": {},
   "outputs": [],
   "source": [
    "%%bigquery df_first_marriage\n",
    "SELECT round(value+2,1) as first_marriage ,  country_code, country_name, year\n",
    "FROM `dataproc-300110.worldbankhealth.wh_health_nutrition_population` \n",
    "where indicator_code like 'SP.DYN.SMAM.FE' and year = 2013 and value > 15\n",
    "order by value desc "
   ]
  },
  {
   "cell_type": "code",
   "execution_count": 52,
   "metadata": {},
   "outputs": [],
   "source": [
    "df_marriage_mortality = pd.merge(df_first_marriage, df_mortality, on=['country_name','year'])"
   ]
  },
  {
   "cell_type": "code",
   "execution_count": 53,
   "metadata": {},
   "outputs": [
    {
     "name": "stderr",
     "output_type": "stream",
     "text": [
      "/usr/local/envs/py3env/lib/python3.5/site-packages/pandas/plotting/_core.py:1716: UserWarning: Pandas doesn't allow columns to be created via a new attribute name - see https://pandas.pydata.org/pandas-docs/stable/indexing.html#attribute-access\n",
      "  series.name = label\n"
     ]
    },
    {
     "data": {
      "text/plain": [
       "<matplotlib.axes._subplots.AxesSubplot at 0x7faa788c2240>"
      ]
     },
     "execution_count": 53,
     "metadata": {},
     "output_type": "execute_result"
    },
    {
     "data": {
      "image/png": "[encoded data removed]",
      "text/plain": [
       "<matplotlib.figure.Figure at 0x7faa788e87f0>"
      ]
     },
     "metadata": {},
     "output_type": "display_data"
    }
   ],
   "source": [
    "df_marriage_mortality.plot(kind='bar',x='country_name',y=['first_marriage', 'infant_mortality'], secondary_y= 'infant_mortality')"
   ]
  },
  {
   "cell_type": "code",
   "execution_count": 1,
   "metadata": {},
   "outputs": [
    {
     "ename": "NameError",
     "evalue": "name 'df_marriage_mortality' is not defined",
     "output_type": "error",
     "traceback": [
      "\u001b[0;31m---------------------------------------------------------------------------\u001b[0m",
      "\u001b[0;31mNameError\u001b[0m                                 Traceback (most recent call last)",
      "\u001b[0;32m<ipython-input-1-85d765d69b1d>\u001b[0m in \u001b[0;36m<module>\u001b[0;34m()\u001b[0m\n\u001b[0;32m----> 1\u001b[0;31m \u001b[0mdf_marriage_mortality\u001b[0m\u001b[0;34m\u001b[0m\u001b[0m\n\u001b[0m",
      "\u001b[0;31mNameError\u001b[0m: name 'df_marriage_mortality' is not defined"
     ]
    }
   ],
   "source": [
    "df_marriage_mortality\n"
   ]
  },
  {
   "cell_type": "code",
   "execution_count": 2,
   "metadata": {},
   "outputs": [
    {
     "ename": "NameError",
     "evalue": "name 'df_marriage_mortality' is not defined",
     "output_type": "error",
     "traceback": [
      "\u001b[0;31m---------------------------------------------------------------------------\u001b[0m",
      "\u001b[0;31mNameError\u001b[0m                                 Traceback (most recent call last)",
      "\u001b[0;32m<ipython-input-2-85d765d69b1d>\u001b[0m in \u001b[0;36m<module>\u001b[0;34m()\u001b[0m\n\u001b[0;32m----> 1\u001b[0;31m \u001b[0mdf_marriage_mortality\u001b[0m\u001b[0;34m\u001b[0m\u001b[0m\n\u001b[0m",
      "\u001b[0;31mNameError\u001b[0m: name 'df_marriage_mortality' is not defined"
     ]
    }
   ],
   "source": [
    "df_marriage_mortality"
   ]
  },
  {
   "cell_type": "code",
   "execution_count": null,
   "metadata": {},
   "outputs": [],
   "source": []
  }
 ],
 "metadata": {
  "kernelspec": {
   "display_name": "Python 3",
   "language": "python",
   "name": "python3"
  },
  "language_info": {
   "codemirror_mode": {
    "name": "ipython",
    "version": 3
   },
   "file_extension": ".py",
   "mimetype": "text/x-python",
   "name": "python",
   "nbconvert_exporter": "python",
   "pygments_lexer": "ipython3",
   "version": "3.5.6"
  }
 },
 "nbformat": 4,
 "nbformat_minor": 4
}
